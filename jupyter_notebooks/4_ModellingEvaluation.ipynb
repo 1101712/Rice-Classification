{
  "cells": [
    {
      "cell_type": "markdown",
      "metadata": {
        "id": "0aStgWSO0E0E"
      },
      "source": [
        "# **Data Collection**"
      ]
    },
    {
      "cell_type": "markdown",
      "metadata": {
        "id": "1eLEkw5O0ECa"
      },
      "source": [
        "## Objectives\n",
        "\n",
        "- Import necessary Python libraries, including numpy for numerical operations, pandas for data handling, matplotlib and seaborn for plotting, plotly for interactive visualizations, and streamlit for web app development. Also, include machine learning packages like scikit-learn for modeling, and tensorflow-cpu with keras for neural network implementations\n",
        "- Set working directory  to ensure proper access to data files\n",
        "- Fetch data from Kaggle\n",
        "- Unzip the dataset\n",
        "- Load th image data into a suitable structure\n",
        "- Consider resizing the images to a uniform size if they vary in dimensions\n",
        "- Assessment and Handling of Corrupt or Missing Data\n",
        "- Normalize the pixel values of the images for better performance of machine learning models\n",
        "- Perform any additional preprocessing needed, such as image augmentation, to improve the model's ability to generalize.\n",
        "- Split the dataset into training, validation, and test sets\n",
        "- Ensure that the split is stratified if the dataset is imbalanced, meaning each set should have a representative distribution of each class\n",
        "- Ensure to document each step of the project's development process\n",
        "\n",
        "\n",
        "## Inputs\n",
        "\n",
        "- Kaggle authentication token (kaggle.json) for acces to datasets on Kaggle\n",
        "\n",
        "## Outputs  \n",
        "\n",
        "         .\n",
        "         ├── inputs   \n",
        "         │   └──datasets_devided\n",
        "         │      └──rice  \n",
        "         │           ├── test  \n",
        "         │           │   ├── Arborio  \n",
        "         │           │   ├── Basmati  \n",
        "         │           │   ├── Ipsala  \n",
        "         │           │   ├── Jasmine \n",
        "         │           │   └── Karacadag\n",
        "         │           ├── train\n",
        "         │           │   ├── Arborio  \n",
        "         │           │   ├── Basmati  \n",
        "         │           │   ├── Ipsala  \n",
        "         │           │   ├── Jasmine  \n",
        "         │           │   └── Karacadag\n",
        "         │           └── validation\n",
        "         │               ├── Arborio  \n",
        "         │               ├── Basmati  \n",
        "         │               ├── Ipsala  \n",
        "         │               ├── Jasmine  \n",
        "         │               └── Karacadag  \n",
        "         └── ...\n",
        "\n",
        "## Additional Comments\n",
        "\n",
        "- Next step will be Data Visualization to understand the data and discover patterns. \n",
        "\n"
      ]
    },
    {
      "cell_type": "markdown",
      "metadata": {
        "id": "9uWZXH9LwoQg"
      },
      "source": [
        "---"
      ]
    },
    {
      "cell_type": "markdown",
      "metadata": {
        "id": "cqP-UeN-z3i2"
      },
      "source": [
        "# Change working directory"
      ]
    },
    {
      "cell_type": "markdown",
      "metadata": {
        "id": "aOGIGS-uz3i2"
      },
      "source": [
        "We store our Jupyter notebooks in a subfolder of the project. Therefore, when we run the notebooks in the editor, we need to change the working directory. This is necessary to ensure proper access to data files and other project resources that might be located outside the notebook's subfolder.\n",
        "\n",
        "We need to change the working directory from its current folder to its parent folder\n",
        "\n",
        "- To access the current working directory, we use the os.getcwd() command. "
      ]
    },
    {
      "cell_type": "code",
      "execution_count": null,
      "metadata": {
        "id": "wZfF_j-Bz3i4",
        "outputId": "66943449-1436-4c3d-85c7-b85f9f78349b"
      },
      "outputs": [],
      "source": [
        "import os\n",
        "current_dir = os.getcwd()\n",
        "current_dir"
      ]
    },
    {
      "cell_type": "markdown",
      "metadata": {
        "id": "9MWW8E7lz3i7"
      },
      "source": [
        "Then, we change the working directory from its current folder to its parent folder to facilitate the correct file path references within our notebooks.\n",
        "\n",
        "- os.path.dirname() gets the parent directory\n",
        "- os.chir() defines the new current directory"
      ]
    },
    {
      "cell_type": "code",
      "execution_count": null,
      "metadata": {
        "id": "TwHsQRWjz3i9",
        "outputId": "86849db3-cd2f-4cc5-ebb8-2d0caafa1a2c"
      },
      "outputs": [],
      "source": [
        "os.chdir(os.path.dirname(current_dir))\n",
        "print(\"You set a new current directory\")"
      ]
    },
    {
      "cell_type": "markdown",
      "metadata": {
        "id": "M_xPk_Ijz3i-"
      },
      "source": [
        "Confirm the new current directory"
      ]
    },
    {
      "cell_type": "code",
      "execution_count": null,
      "metadata": {
        "id": "vz3S-_kjz3jA",
        "outputId": "00b79ae4-75d0-4a96-d193-ac9ef9847ea2"
      },
      "outputs": [],
      "source": [
        "current_dir = os.getcwd()\n",
        "current_dir"
      ]
    },
    {
      "cell_type": "markdown",
      "metadata": {},
      "source": [
        "---"
      ]
    }
  ],
  "metadata": {
    "accelerator": "GPU",
    "colab": {
      "name": "Data Practitioner Jupyter Notebook.ipynb",
      "provenance": [],
      "toc_visible": true
    },
    "interpreter": {
      "hash": "8b8334dab9339717f727a1deaf837b322d7a41c20d15cc86be99a8e69ceec8ce"
    },
    "kernelspec": {
      "display_name": "Python 3.8.12 64-bit ('3.8.12': pyenv)",
      "name": "python3"
    },
    "language_info": {
      "codemirror_mode": {
        "name": "ipython",
        "version": 3
      },
      "file_extension": ".py",
      "mimetype": "text/x-python",
      "name": "python",
      "nbconvert_exporter": "python",
      "pygments_lexer": "ipython3",
      "version": "3.8.12 (default, Nov  7 2022, 16:45:55) \n[GCC 9.4.0]"
    },
    "orig_nbformat": 2
  },
  "nbformat": 4,
  "nbformat_minor": 2
}
